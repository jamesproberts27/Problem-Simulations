{
 "cells": [
  {
   "cell_type": "markdown",
   "id": "00aa2b85",
   "metadata": {},
   "source": [
    "###### Problem:\n",
    "Suppose that we have N cars parked in a line occupying spaces 1 to N. Spaces N+1 to 2N are empty.  \n",
    "\n",
    "Every minute, a car in space i is considered eligible to move forward one space if i+1 is empty and i < 2N.\n",
    "\n",
    "Suppose that every minute, if a car is eligible to move, then it has a 1/2 chance of moving forward by one space. What is the expected number of minutes before the cars occupy squares N+1 to 2N?"
   ]
  },
  {
   "cell_type": "code",
   "execution_count": 492,
   "id": "6ae0b982",
   "metadata": {},
   "outputs": [],
   "source": [
    "import random\n",
    "import numpy as np\n",
    "import matplotlib.pyplot as plt"
   ]
  },
  {
   "cell_type": "code",
   "execution_count": 411,
   "id": "b2af5364",
   "metadata": {},
   "outputs": [],
   "source": [
    "def sim(n):\n",
    "    arr = [1]*n + [0]*n\n",
    "    ans = 0\n",
    "    \n",
    "    while sum(arr[0:n]) > 0:\n",
    "        canMove = [0] * (len(arr) - 1)\n",
    "        for i in range(len(arr) - 1):\n",
    "            canMove[i] = (arr[i] == 1 and arr[i+1] == 0)\n",
    "        \n",
    "        for i in range(len(arr) - 1):\n",
    "            if arr[i] and canMove[i] and random.randint(0,1):\n",
    "                arr[i], arr[i+1] = 0, 1\n",
    "        \n",
    "        ans += 1\n",
    "        \n",
    "    return ans"
   ]
  },
  {
   "cell_type": "code",
   "execution_count": 412,
   "id": "67f1f9ac",
   "metadata": {},
   "outputs": [],
   "source": [
    "def run(n, k):\n",
    "    times = []\n",
    "    for i in range(k):\n",
    "        times.append(sim(n))\n",
    "    return times"
   ]
  },
  {
   "cell_type": "code",
   "execution_count": 499,
   "id": "85a27cfc",
   "metadata": {},
   "outputs": [
    {
     "data": {
      "text/plain": [
       "<matplotlib.collections.PathCollection at 0x208671cca50>"
      ]
     },
     "execution_count": 499,
     "metadata": {},
     "output_type": "execute_result"
    },
    {
     "data": {
      "image/png": "[encoded data removed]",
      "text/plain": [
       "<Figure size 640x480 with 1 Axes>"
      ]
     },
     "metadata": {},
     "output_type": "display_data"
    }
   ],
   "source": [
    "n = 70\n",
    "k = 10\n",
    "\n",
    "x = list(range(1,n))\n",
    "y = []\n",
    "for i in range(1,n):\n",
    "    times = run(i,k)\n",
    "    avg = sum(times) / len(times)\n",
    "    y.append(avg)\n",
    "\n",
    "plt.scatter(x, y)"
   ]
  },
  {
   "cell_type": "code",
   "execution_count": 507,
   "id": "f52cd86e",
   "metadata": {},
   "outputs": [
    {
     "name": "stdout",
     "output_type": "stream",
     "text": [
      "Slope: 6.600730727073438\n",
      "Intercept: -11.461807331628314\n"
     ]
    }
   ],
   "source": [
    "coefficients = np.polyfit(x, y, 1)\n",
    "\n",
    "slope = coefficients[0]\n",
    "intercept = coefficients[1]\n",
    "\n",
    "print(\"Slope:\", slope)\n",
    "print(\"Intercept:\", intercept)"
   ]
  }
 ],
 "metadata": {
  "kernelspec": {
   "display_name": "Python 3 (ipykernel)",
   "language": "python",
   "name": "python3"
  },
  "language_info": {
   "codemirror_mode": {
    "name": "ipython",
    "version": 3
   },
   "file_extension": ".py",
   "mimetype": "text/x-python",
   "name": "python",
   "nbconvert_exporter": "python",
   "pygments_lexer": "ipython3",
   "version": "3.11.5"
  }
 },
 "nbformat": 4,
 "nbformat_minor": 5
}
